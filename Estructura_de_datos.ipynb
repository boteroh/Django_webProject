{
  "nbformat": 4,
  "nbformat_minor": 0,
  "metadata": {
    "colab": {
      "provenance": [],
      "authorship_tag": "ABX9TyM26xI3NBlWX5rjBKbcHrRW",
      "include_colab_link": true
    },
    "kernelspec": {
      "name": "python3",
      "display_name": "Python 3"
    },
    "language_info": {
      "name": "python"
    }
  },
  "cells": [
    {
      "cell_type": "markdown",
      "metadata": {
        "id": "view-in-github",
        "colab_type": "text"
      },
      "source": [
        "<a href=\"https://colab.research.google.com/github/boteroh/Django_webProject/blob/master/Estructura_de_datos.ipynb\" target=\"_parent\"><img src=\"https://colab.research.google.com/assets/colab-badge.svg\" alt=\"Open In Colab\"/></a>"
      ]
    },
    {
      "cell_type": "code",
      "execution_count": null,
      "metadata": {
        "id": "pB0x_fF5Mide"
      },
      "outputs": [],
      "source": [
        "# Listas\n",
        "lista = [1, 2, 3] # Lista homogénea\n",
        "print(lista)\n",
        "\n",
        "lista2 = [20, \"hola\", True, 8.0] # Lista heterogénea\n",
        "print(lista2)\n",
        "\n",
        "print(lista2[0])\n",
        "lista2[0] = 50\n",
        "\n",
        "print(lista2)"
      ]
    },
    {
      "cell_type": "markdown",
      "source": [
        "*# Métodos para las listas*"
      ],
      "metadata": {
        "id": "wPIf9ZErnNul"
      }
    },
    {
      "cell_type": "code",
      "source": [
        "# Método count\n",
        "lista_nueva = [1, 2, 3, 4]\n",
        "lista_nueva.append(3) #Agrega el elemento al final de la lista\n",
        "print(lista_nueva)\n",
        "\n",
        "# Método count\n",
        "print(lista_nueva.count(3)) # Devuelve la cantidad de veces que se repite un valor dentro de la lista\n",
        "\n",
        "# Método Index (muestra la primera posición en la que se encuentra un elemento)\n",
        "print(lista_nueva.index(4))\n",
        "\n",
        "# Método remove (elimina la primera aparición de un elemento dentro de la lista)\n",
        "lista_nueva.remove(3)\n",
        "print(lista_nueva)\n"
      ],
      "metadata": {
        "id": "r5tPYOownUi8"
      },
      "execution_count": null,
      "outputs": []
    },
    {
      "cell_type": "markdown",
      "source": [
        "-----\n",
        "*# Tuplas*"
      ],
      "metadata": {
        "id": "Q2s_W53TpQmL"
      }
    },
    {
      "cell_type": "code",
      "source": [
        "# Alamacena diferentes tipos de datos, pero son inmutables\n",
        "tupla = (1, 2, 3) # Tupla homogénea\n",
        "print(tupla)\n",
        "print((1, )) # Para que se reconozca como tupla al imprimir se debe agregar la coma\n",
        "\n",
        "tupla2 = (5, True, \"Soy una tupla\", False)\n",
        "print(tupla2)\n",
        "\n",
        "# Acceder al contenido\n",
        "print(tupla2[0])"
      ],
      "metadata": {
        "colab": {
          "base_uri": "https://localhost:8080/"
        },
        "collapsed": true,
        "id": "3NRKZkarpVZ-",
        "outputId": "b2c8e9a8-6a91-446a-8c18-4e2e3200069e"
      },
      "execution_count": 15,
      "outputs": [
        {
          "output_type": "stream",
          "name": "stdout",
          "text": [
            "(1, 2, 3)\n",
            "(1,)\n",
            "(5, True, 'Soy una tupla', False)\n",
            "5\n"
          ]
        }
      ]
    },
    {
      "cell_type": "markdown",
      "source": [
        "*# Métodos de la tupla*"
      ],
      "metadata": {
        "id": "4lWd8M1LqVDu"
      }
    },
    {
      "cell_type": "code",
      "source": [
        "# Mëtodo coutn\n",
        "print(tupla2.count(False))\n",
        "\n",
        "# Método index\n",
        "print(tupla2.index(True))"
      ],
      "metadata": {
        "colab": {
          "base_uri": "https://localhost:8080/"
        },
        "collapsed": true,
        "id": "VNqAZsUlqX6Q",
        "outputId": "44eeac6d-3b65-461a-94ef-7ec15224fa4f"
      },
      "execution_count": 17,
      "outputs": [
        {
          "output_type": "stream",
          "name": "stdout",
          "text": [
            "1\n",
            "1\n"
          ]
        }
      ]
    },
    {
      "cell_type": "markdown",
      "source": [
        "# Conjutos"
      ],
      "metadata": {
        "id": "IcQtIiomrAPm"
      }
    },
    {
      "cell_type": "code",
      "source": [
        "# Conjuntos\n",
        "set() # Construir conjuntos\n",
        "\n",
        "# Al imprimir no muestra elementos repetidos\n",
        "conjunto = set([1, 2, 3, 4, 5, 4])\n",
        "print(conjunto)\n",
        "\n",
        "print(set([1, 2, 3])) # lista dentro del conjunto\n",
        "print(set((2, 3, 4, 4))) # Tupla dentro del conjunto, en este caso elimina el repetido\n",
        "print(set(\"Hola Mundo\")) # Las cadenas de caracteres los toma como una lista desordenada\n",
        "\n",
        "\n"
      ],
      "metadata": {
        "colab": {
          "base_uri": "https://localhost:8080/"
        },
        "collapsed": true,
        "id": "FLU9ZZefrDz8",
        "outputId": "ff9ae189-10ed-45ee-dcb4-17b93a5003fa"
      },
      "execution_count": 20,
      "outputs": [
        {
          "output_type": "stream",
          "name": "stdout",
          "text": [
            "{1, 2, 3, 4, 5}\n",
            "{1, 2, 3}\n",
            "{2, 3, 4}\n",
            "{'d', 'M', 'n', 'a', 'o', 'H', 'l', 'u', ' '}\n"
          ]
        }
      ]
    },
    {
      "cell_type": "markdown",
      "source": [
        "*# Métodos de los conjuntos*"
      ],
      "metadata": {
        "id": "gE8--nKJtJQN"
      }
    },
    {
      "cell_type": "code",
      "source": [
        "# Método add (agrega elementos al conjunto)\n",
        "\n",
        "conjunto.add(0) # Según el número que se agregue el conjunto lo ordena (puede controlarse con un ciclo)\n",
        "print(conjunto)\n",
        "\n",
        "# Método remove (elimina elementos del conjunto)\n",
        "conjunto.remove(1)\n",
        "print(conjunto)\n"
      ],
      "metadata": {
        "colab": {
          "base_uri": "https://localhost:8080/"
        },
        "collapsed": true,
        "id": "KbL_pehAtOhH",
        "outputId": "6b290f8e-a39f-4cf3-f48e-f643793efad0"
      },
      "execution_count": 22,
      "outputs": [
        {
          "output_type": "stream",
          "name": "stdout",
          "text": [
            "{0, 1, 2, 3, 4, 5}\n",
            "{0, 2, 3, 4, 5}\n"
          ]
        }
      ]
    },
    {
      "cell_type": "markdown",
      "source": [
        "*# Operaciones con conjuntos*"
      ],
      "metadata": {
        "id": "WcMJ2X9zuMym"
      }
    },
    {
      "cell_type": "code",
      "source": [
        "# InterseccióN (OPERACIÓN PARA COMPARAR DOS CONJUNTOS, muestra solo los elementos que se repiten(interceptan))\n",
        "conjunto_A = set([2, 4, 5, 7, 10, 12])\n",
        "conjunto_B = set([1, 3, 7])\n",
        "\n",
        "print(conjunto, conjunto_A, conjunto_B)\n",
        "print(conjunto.intersection(conjunto_A)) # Método para realizar la intersección\n",
        "\n",
        "print(conjunto & conjunto_A) # Forma secundaria para realizar la intersección\n",
        "\n",
        "# Unión (Une los elementos de los conjuntos en uno)\n",
        "print(conjunto_A.union(conjunto))\n",
        "\n",
        "print(conjunto_A | conjunto) # Forma secundaria para aplicar la unión con el símbolo \"|\""
      ],
      "metadata": {
        "colab": {
          "base_uri": "https://localhost:8080/"
        },
        "collapsed": true,
        "id": "azfRuN7xuVO2",
        "outputId": "62b1911e-ac80-4fc4-9f7b-871f7b7868b8"
      },
      "execution_count": 27,
      "outputs": [
        {
          "output_type": "stream",
          "name": "stdout",
          "text": [
            "{0, 2, 3, 4, 5} {2, 4, 5, 7, 10, 12} {1, 3, 7}\n",
            "{2, 4, 5}\n",
            "{2, 4, 5}\n",
            "{0, 2, 3, 4, 5, 7, 10, 12}\n",
            "{0, 2, 3, 4, 5, 7, 10, 12}\n"
          ]
        }
      ]
    },
    {
      "cell_type": "markdown",
      "source": [
        "---\n",
        "Diccionarios\n",
        "\n",
        "Usan llaves y valor, como un documento JSON\n",
        "\n",
        "* No son ordenados\n",
        "* Son heterogéneos\n",
        "* Las clave es inmutable\n",
        "* Los valores son mutables\n"
      ],
      "metadata": {
        "id": "dY4IkEGtxSoB"
      }
    },
    {
      "cell_type": "code",
      "source": [
        "# Diccionario, se declara con {}\n",
        "\n",
        "diccionario = {1: \"Uno\", 2: \"Dos\"} # Declaración de un diccionario\n",
        "print(diccionario)\n",
        "\n",
        "# Se puede ver el valor de una key usando []\n",
        "print(diccionario[2]) # Devuelve el valor\n",
        "\n",
        "# Podemos cambiar el valor de una key usando el =\n",
        "diccionario[3] = \"tres\"\n",
        "print(diccionario) # Al no existir agrega la key y el valor\n",
        "\n",
        "# Podemos crear diccionarios utiizando la propiedad dict recibiendo los pares de key: value\n",
        "dict_lista_tupla = dict([(1, \"Uno\"), (2, \"Dos\"), (3, \"Tres\")]) # Forma secundaria para declarar un diccionario\n",
        "print(dict_lista_tupla)\n",
        "\n",
        "# Usanco keys tipo string\n",
        "dict_lista_string = dict(uno = 1, Dos = 2, Tres = 3) # Cuando se usa string no se requieren las comillas\n",
        "print(dict_lista_string)\n",
        "\n",
        "# Diccionario puede contener diferentes tipos de datos\n",
        "dict_datos = {1: \"integer\", 2.2: \"float\", \"tres\": \"string\", (1, 2): \"tupla\"}\n",
        "print(dict_datos)\n",
        "\n",
        "# Las key siempre deben ser únicas, si se repite retorna el último valor asignado\n",
        "dict_repeticion = {1: \"Uno\", 2: \"Dos\"}\n",
        "print(dict_repeticion)"
      ],
      "metadata": {
        "colab": {
          "base_uri": "https://localhost:8080/"
        },
        "collapsed": true,
        "id": "7ubYbRCoxYFs",
        "outputId": "1b4f44f4-a7d0-4673-f496-899017a00077"
      },
      "execution_count": 36,
      "outputs": [
        {
          "output_type": "stream",
          "name": "stdout",
          "text": [
            "{1: 'Uno', 2: 'Dos'}\n",
            "Dos\n",
            "{1: 'Uno', 2: 'Dos', 3: 'tres'}\n",
            "{1: 'Uno', 2: 'Dos', 3: 'Tres'}\n",
            "{'uno': 1, 'Dos': 2, 'Tres': 3}\n",
            "{1: 'integer', 2.2: 'float', 'tres': 'string', (1, 2): 'tupla'}\n",
            "{1: 'Uno', 2: 'Dos'}\n"
          ]
        }
      ]
    },
    {
      "cell_type": "markdown",
      "source": [
        "*# Métodos para diccionarios*"
      ],
      "metadata": {
        "id": "eAObTmYv2tBl"
      }
    },
    {
      "cell_type": "code",
      "source": [
        "# Método Keys (devuelve una lista con las claves)\n",
        "print(diccionario.keys())\n",
        "\n",
        "# Método values (devuelve una lista con los valores)\n",
        "print(diccionario.values())\n",
        "\n",
        "# Método Pop (elimina el elemento con su clave y valor)\n",
        "diccionario.pop(2) #Para eliminar se indica la clave\n",
        "print(diccionario)"
      ],
      "metadata": {
        "colab": {
          "base_uri": "https://localhost:8080/"
        },
        "id": "Z7Ew7n0g2woF",
        "outputId": "dcf0b5b7-f3fc-40f6-8dd2-6dc7a09ea50d"
      },
      "execution_count": 39,
      "outputs": [
        {
          "output_type": "stream",
          "name": "stdout",
          "text": [
            "dict_keys([1, 2, 3])\n",
            "dict_values(['Uno', 'Dos', 'tres'])\n",
            "{1: 'Uno', 3: 'tres'}\n"
          ]
        }
      ]
    }
  ]
}